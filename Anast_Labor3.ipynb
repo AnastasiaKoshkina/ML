{
 "cells": [
  {
   "cell_type": "code",
   "execution_count": null,
   "metadata": {},
   "outputs": [],
   "source": [
    "import pandas as pd # Дата фреймы \n",
    "import json  # Работа с json'ами\n",
    "import numpy as np # Для отделения от выборки 10 процентов и  Модуль для того чтоб мы посчитали логарифм\n",
    "import matplotlib.pyplot as plt # Для боксплотов\n",
    "from pandas.io.json import json_normalize  # Модуль для придания json'ам человеческого вида\n",
    "from sklearn.ensemble import GradientBoostingRegressor # Градиентный бустинг\n",
    "from sklearn.ensemble import RandomForestRegressor # Рандомный лес\n",
    "from sklearn.svm import SVR # Эпсилон-опорная векторная регрессия\n",
    "from sklearn.linear_model import LinearRegression # Линейная регрессия\n",
    "from sklearn.model_selection import train_test_split # Разбиение на тестовую и обучающую\n",
    "from sklearn.model_selection import KFold # Крос валидация \n",
    "from sklearn.model_selection import cross_val_score # Оценки валидаций"
   ]
  },
  {
   "cell_type": "code",
   "execution_count": null,
   "metadata": {},
   "outputs": [],
   "source": [
    "JSON = ['device', 'geoNetwork', 'totals', 'trafficSource'] # Колонки с json\n",
    "transact = pd.read_csv(r\"G:train2.csv\", sep = \",\",  dtype = {'fullVisitorId': 'str'},\n",
    "                   converters={column: json.loads for column in JSON}, \n",
    "                   nrows = None)  # Грузим сет \n",
    "for column in JSON:\n",
    "        column_as_df = json_normalize(transact[column])\n",
    "        column_as_df.columns = [f'{column}.{subcolumn}' for subcolumn in column_as_df.columns]\n",
    "        transact = transact.drop(column, axis=1).merge(column_as_df, right_index=True, left_index=True)  # Преобразуем json\n",
    "cut = np.random.rand(len(transact)) < 0.01 # Перемешиваем строки\n",
    "work_transact = transact[cut] # Срез с 0 до длины сета * 10%  и приведенной к целому числу\n",
    "work_transact.head()\n",
    "work_transact.info()"
   ]
  },
  {
   "cell_type": "code",
   "execution_count": null,
   "metadata": {},
   "outputs": [],
   "source": [
    "result_work_transact = pd.DataFrame()\n",
    "work_transact['totals.transactionRevenue'].fillna(0, inplace=True)\n",
    "result_work_transact['Revenue'] = work_transact['totals.transactionRevenue'].astype(float)# Заполняем пустоты в выручке нулями, потом приводим к числам и считаем логарифм\n",
    "result_work_transact['Revenue'] = np.log1p(result_work_transact['Revenue'].values) # Заполняем пустоты в выручке нулями, потом приводим к числам и считаем логарифм\n",
    "\n",
    "result_work_transact['SocialEngagement'] = work_transact['socialEngagementType'] # Берем из оригинального сета только нужные параметры и желательно чтоб булики или цифры или можно было привести к буликам\n",
    "result_work_transact = result_work_transact.replace({'SocialEngagement': {'Engaged': True, 'Not Socially Engaged': False}})\n",
    "result_work_transact['isMobile'] = work_transact['device.isMobile']\n",
    "result_work_transact['VisitNum'] = work_transact['visitNumber'].astype(float)\n",
    "result_work_transact['Visits'] = work_transact['totals.visits'].astype(float)\n",
    "result_work_transact['Hits'] = work_transact['totals.hits'].astype(float)\n",
    "result_work_transact['PageViews'] = work_transact['totals.pageviews'].astype(float)\n",
    "work_transact['totals.pageviews'].fillna(0, inplace=True)\n",
    "work_transact['totals.bounces'].fillna(0, inplace=True)\n",
    "work_transact['totals.newVisits'].fillna(0, inplace=True)\n",
    "result_work_transact['PageViews'] = work_transact['totals.pageviews'].astype(float)\n",
    "result_work_transact['Bonuces'] = work_transact['totals.bounces'].astype(float)\n",
    "result_work_transact['NewVisists'] = work_transact['totals.newVisits'].astype(float)\n",
    "\n",
    "result_work_transact.head()\n",
    "result_work_transact.info()"
   ]
  },
  {
   "cell_type": "code",
   "execution_count": null,
   "metadata": {},
   "outputs": [],
   "source": [
    "Y = result_work_transact['Revenue']  # Отделяем от выборки значение зависимой переменной\n",
    "Train = result_work_transact.drop(columns=['Revenue'], axis=1)\n",
    "Xtrn, Xtest, Ytrn, Ytest = train_test_split(Train, Y, test_size = 0.2) # Разбиваем выборку на тестовую и обучающую\n"
   ]
  },
  {
   "cell_type": "code",
   "execution_count": null,
   "metadata": {},
   "outputs": [],
   "source": [
    "Bosting = GradientBoostingRegressor()\n",
    "scores = np.array([])\n",
    "for i in range(10):  # Тут теперь 10 разбиений\n",
    "       fold = KFold(n_splits=5, shuffle=True)\n",
    "       scores_on_this_split = cross_val_score(\n",
    "               estimator = Bosting, X=Xtrn, y=Ytrn,\n",
    "               cv=fold)\n",
    "       scores = np.append(scores, scores_on_this_split)\n",
    "fig1, ax1 = plt.subplots()\n",
    "ax1.set_title('Бустинг')\n",
    "ax1.boxplot(scores)"
   ]
  },
  {
   "cell_type": "code",
   "execution_count": null,
   "metadata": {},
   "outputs": [],
   "source": [
    "Forest = RandomForestRegressor(n_estimators = 20)\n",
    "scores = np.array([])\n",
    "for i in range(10):  # Тут теперь 10 разбиений\n",
    "       fold = KFold(n_splits=5, shuffle=True)\n",
    "       scores_on_this_split = cross_val_score(\n",
    "               estimator = Forest, X=Xtrn, y=Ytrn,\n",
    "               cv=fold)\n",
    "       scores = np.append(scores, scores_on_this_split)\n",
    "fig1, ax1 = plt.subplots()\n",
    "ax1.set_title('Лес')\n",
    "ax1.boxplot(scores)"
   ]
  },
  {
   "cell_type": "code",
   "execution_count": null,
   "metadata": {},
   "outputs": [],
   "source": [
    "SVR = SVR(kernel='rbf', C=1e3, gamma = 0.1)\n",
    "scores = np.array([])\n",
    "for i in range(2):  # Тут теперь 10 разбиений\n",
    "       fold = KFold(n_splits=5, shuffle=True)\n",
    "       scores_on_this_split = cross_val_score(\n",
    "               estimator = SVR, X=Xtrn, y=Ytrn,\n",
    "               cv=fold)\n",
    "       scores = np.append(scores, scores_on_this_split)\n",
    "fig1, ax1 = plt.subplots()\n",
    "ax1.set_title('Векторная регрессия')\n",
    "ax1.boxplot(scores)"
   ]
  },
  {
   "cell_type": "code",
   "execution_count": null,
   "metadata": {},
   "outputs": [],
   "source": [
    "LinearRegression = LinearRegression()\n",
    "scores = np.array([])\n",
    "for i in range(10):  # Тут теперь 10 разбиений\n",
    "       fold = KFold(n_splits=5, shuffle=True)\n",
    "       scores_on_this_split = cross_val_score(\n",
    "               estimator = LinearRegression, X=Xtrn, y=Ytrn,\n",
    "               cv=fold)\n",
    "       scores = np.append(scores, scores_on_this_split)\n",
    "fig1, ax1 = plt.subplots()\n",
    "ax1.set_title('Линейная регрессия')\n",
    "ax1.boxplot(scores)"
   ]
  },
  {
   "cell_type": "code",
   "execution_count": null,
   "metadata": {},
   "outputs": [],
   "source": []
  }
 ],
 "metadata": {
  "kernelspec": {
   "display_name": "Python 3",
   "language": "python",
   "name": "python3"
  },
  "language_info": {
   "codemirror_mode": {
    "name": "ipython",
    "version": 3
   },
   "file_extension": ".py",
   "mimetype": "text/x-python",
   "name": "python",
   "nbconvert_exporter": "python",
   "pygments_lexer": "ipython3",
   "version": "3.7.6"
  }
 },
 "nbformat": 4,
 "nbformat_minor": 4
}
