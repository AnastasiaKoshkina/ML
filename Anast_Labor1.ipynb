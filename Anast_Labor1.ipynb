{
 "cells": [
  {
   "cell_type": "code",
   "execution_count": 139,
   "metadata": {},
   "outputs": [],
   "source": [
    "# ссылка на репозиторий: https://github.com/AnastasiaKoshkina/ML\n",
    "# доступ публичный, так как непонятно, каким пользователям гитхаба и/или на какие почты давать доступ\n",
    "\n",
    "#подгружаем pandas\n",
    "import pandas as pd \n",
    "#подгружаем numpy - понадобится для приведения дат к месяцам\n",
    "import numpy as np \n",
    "\n",
    "from sklearn.linear_model import LogisticRegression\n",
    "from sklearn.model_selection import train_test_split\n",
    "from sklearn.metrics import classification_report"
   ]
  },
  {
   "cell_type": "code",
   "execution_count": 140,
   "metadata": {},
   "outputs": [
    {
     "name": "stdout",
     "output_type": "stream",
     "text": [
      "   CustomerId   Age     Sex\n",
      "0     2728183  21.0  Female\n",
      "1     2728198  21.0  Female\n",
      "2     2728306  21.0  Female\n",
      "3     2728178  22.0    Male\n",
      "4     2728322  22.0    Male\n",
      "   CustomerID  Restaurant      RKDate                    RegionName  \\\n",
      "0     2898197         391  2017-07-16  Москва и Московская область    \n",
      "1     2903215          43  2015-04-07  Москва и Московская область    \n",
      "2     2748887          43  2015-05-22  Москва и Московская область    \n",
      "3     2862077          46  2015-03-05  Москва и Московская область    \n",
      "4     2862077          46  2015-03-11  Москва и Московская область    \n",
      "\n",
      "   BrandsNames DishCategoryName  Quantity  SummBasic  SummAfterPointsUsage  \n",
      "0  TGI FRIDAYS      NON ALCOHOL         2          2                   2.0  \n",
      "1     IL Патио      NON ALCOHOL         1          5                   5.0  \n",
      "2     IL Патио      NON ALCOHOL         1          5                   5.0  \n",
      "3     IL Патио      NON ALCOHOL         1          5                   5.0  \n",
      "4     IL Патио      NON ALCOHOL         1          5                   5.0  \n",
      "         CustomerID   Restaurant     Quantity    SummBasic  \\\n",
      "count  1.000000e+03  1000.000000  1000.000000  1000.000000   \n",
      "mean   2.801380e+06   243.463000     1.101000     8.944000   \n",
      "std    5.994973e+04   258.801799     0.418299     2.039859   \n",
      "min    2.728549e+06    40.000000     1.000000     2.000000   \n",
      "25%    2.751840e+06    54.000000     1.000000    10.000000   \n",
      "50%    2.771859e+06   116.000000     1.000000    10.000000   \n",
      "75%    2.862317e+06   392.000000     1.000000    10.000000   \n",
      "max    2.913068e+06   934.000000     5.000000    10.000000   \n",
      "\n",
      "       SummAfterPointsUsage  \n",
      "count           1000.000000  \n",
      "mean               8.099960  \n",
      "std                2.451883  \n",
      "min                2.000000  \n",
      "25%                5.020000  \n",
      "50%               10.000000  \n",
      "75%               10.000000  \n",
      "max               10.000000  \n"
     ]
    }
   ],
   "source": [
    "#ЗАДАЧА 1\n",
    "\n",
    "#загружаем первый файл с информацией о посетителях\n",
    "peopleData = pd.read_csv(\"CASC_Constant.csv\", sep = \",\")\n",
    "peopleData = peopleData.drop(columns=[\"ActivationDate\",\"SubscribedEmail\",\"SubscribedPush\"]) #удаление лишних столбцов\n",
    "print(peopleData.head())\n",
    "\n",
    "#загружаем второй файл с информацией о транзакциях\n",
    "transactions = pd.read_csv(\"casc-resto-small.csv\", sep = \",\")\n",
    "print(transactions.head())\n",
    "print(transactions.describe())"
   ]
  },
  {
   "cell_type": "code",
   "execution_count": 141,
   "metadata": {},
   "outputs": [
    {
     "name": "stdout",
     "output_type": "stream",
     "text": [
      "<class 'pandas._libs.tslibs.timestamps.Timestamp'>\n",
      "     CustomerID  Restaurant     RKDate                    RegionName  \\\n",
      "209     2767598         450 2017-11-22  Москва и Московская область    \n",
      "773     2768840         183 2017-11-29                   Новосибирск   \n",
      "717     2821271         129 2017-12-28  Москва и Московская область    \n",
      "803     2750656         295 2017-12-29  Москва и Московская область    \n",
      "849     2748926         390 2017-12-30  Москва и Московская область    \n",
      "\n",
      "    BrandsNames DishCategoryName  Quantity  SummBasic  SummAfterPointsUsage  \n",
      "209   Мама Раша             FOOD         1          9                  7.00  \n",
      "773    IL Патио      NON ALCOHOL         1         10                 10.00  \n",
      "717    IL Патио             FOOD         1         10                 10.00  \n",
      "803      Шикари             FOOD         1         10                  6.87  \n",
      "849    IL Патио             FOOD         1         10                 10.00  \n",
      "<class 'pandas.core.frame.DataFrame'>\n",
      "Int64Index: 1000 entries, 798 to 849\n",
      "Data columns (total 13 columns):\n",
      " #   Column                Non-Null Count  Dtype         \n",
      "---  ------                --------------  -----         \n",
      " 0   CustomerID            1000 non-null   int64         \n",
      " 1   Restaurant            1000 non-null   int64         \n",
      " 2   RKDate                1000 non-null   datetime64[ns]\n",
      " 3   RegionName            1000 non-null   object        \n",
      " 4   BrandsNames           1000 non-null   object        \n",
      " 5   DishCategoryName      1000 non-null   object        \n",
      " 6   Quantity              1000 non-null   int64         \n",
      " 7   SummBasic             1000 non-null   int64         \n",
      " 8   SummAfterPointsUsage  1000 non-null   float64       \n",
      " 9   Recency               1000 non-null   float64       \n",
      " 10  Frequency             1000 non-null   float64       \n",
      " 11  MonetValue            1000 non-null   float64       \n",
      " 12  Visithappen           1000 non-null   float64       \n",
      "dtypes: datetime64[ns](1), float64(5), int64(4), object(3)\n",
      "memory usage: 149.4+ KB\n",
      "None\n",
      "<class 'pandas.core.frame.DataFrame'>\n",
      "Int64Index: 463 entries, 798 to 849\n",
      "Data columns (total 5 columns):\n",
      " #   Column       Non-Null Count  Dtype  \n",
      "---  ------       --------------  -----  \n",
      " 0   CustomerID   463 non-null    int64  \n",
      " 1   Recency      463 non-null    float64\n",
      " 2   Frequency    463 non-null    float64\n",
      " 3   MonetValue   463 non-null    float64\n",
      " 4   Visithappen  463 non-null    float64\n",
      "dtypes: float64(4), int64(1)\n",
      "memory usage: 21.7 KB\n",
      "None\n"
     ]
    }
   ],
   "source": [
    "#ЗАДАЧА 2\n",
    "\n",
    "transactions.RKDate = pd.to_datetime(transactions.RKDate) # преобразование из строки в дату - т.к. дата в датасете была строкового типа\n",
    "print(type(transactions.RKDate[0]))\n",
    "transactions = transactions.sort_values(\"RKDate\") # сортировка по возрастанию\n",
    "print(transactions.tail())\n",
    "\n",
    "\n",
    "# Функция для расчета, был ли визит\n",
    "def VisitHap(obj):\n",
    "    result = 0\n",
    "    for index, item in obj.iterrows():\n",
    "        if pd.to_datetime(\"2017-12-31\") >= item['RKDate'] >= pd.to_datetime(\"2017-07-01\"):\n",
    "            result = 1 #если визит был в указанном диапазоне - возвращаем True. Иначе - False            \n",
    "    return result\n",
    "\n",
    "# Функция для расчета частоты прихода клиента   \n",
    "def FunctionFrequency(obj):\n",
    "    # Считаем 2017 07 01  - дата первого визита \n",
    "    # Делим количество визитов на разницу в месяцах\n",
    "    # return количество\n",
    "    correct_date = obj[obj['RKDate'] < pd.to_datetime(\"2017-07-01\")]\n",
    "    if not correct_date.empty:\n",
    "        months = (pd.to_datetime(\"2017-07-01\") - correct_date[\"RKDate\"].min()) / np.timedelta64(1,'M')\n",
    "        visits =  len(correct_date.index) \n",
    "        result = visits / months\n",
    "    else:\n",
    "        result = 0\n",
    "    return result \n",
    "\n",
    "\n",
    "# Функция для расчета среднего чека \n",
    "def FunctionMonetaryValue(obj):\n",
    "    # средний чек клиента по всем покупкам до 2017-07-01\n",
    "    # для каждой запсии: если дата меньше 2017 - 07 - 01 то суммируем чек, считаем чеки, потом считаем среднее \n",
    "    count = 0 \n",
    "    money = 0\n",
    "    for index, item in obj.iterrows():\n",
    "        if item['RKDate'] < pd.to_datetime(\"2017-07-01\"):\n",
    "            count += 1\n",
    "            money += item['SummBasic']\n",
    "    if count == 0:\n",
    "        result = 0\n",
    "        return result\n",
    "    result = money / count  \n",
    "    count = 0 \n",
    "    money = 0\n",
    "    return result   \n",
    "\n",
    "# Функция для расчета новизны - разницы между последним визитом клиента и фиксированной датой\n",
    "def FunctionRecency(obj):\n",
    "    #  \n",
    "    correct_date = obj[obj['RKDate'] < pd.to_datetime(\"2017-07-01\")]\n",
    "    if not correct_date.empty:\n",
    "        result = (pd.to_datetime(\"2017-07-01\") - correct_date[\"RKDate\"].max()) / np.timedelta64(1,'D')\n",
    "    else:\n",
    "        result = 0 \n",
    "    return result\n",
    "\n",
    "\n",
    "\n",
    "transactionsID = transactions.groupby('CustomerID') # groupby по ID клиента\n",
    "\n",
    "for index, item in transactions.iterrows():  # расчет RFM переменных и расчет переменной Y \n",
    "    transactions.loc[index,'Recency'] = FunctionRecency(transactionsID.get_group(item['CustomerID']))\n",
    "    transactions.loc[index,'Frequency'] = FunctionFrequency(transactionsID.get_group(item['CustomerID']))\n",
    "    transactions.loc[index,'MonetValue'] = FunctionMonetaryValue(transactionsID.get_group(item['CustomerID']))\n",
    "    transactions.loc[index,'Visithappen'] = VisitHap(transactionsID.get_group(item['CustomerID'])) # добавление переменной Y\n",
    "    #print(type(FunctionVisitHappen(transactionsID.get_group(item['CustomerID']))))  # добавление переменной Y\n",
    "print(transactions.info())\n",
    "    \n",
    "transactions = transactions.drop_duplicates(subset=['CustomerID'])  # избавление от повторов\n",
    "\n",
    "\n",
    "transactions = transactions.drop(columns=[\"RKDate\", \"Restaurant\", \"RegionName\",\"BrandsNames\", \"DishCategoryName\", \"Quantity\", \"SummBasic\", \"SummAfterPointsUsage\"])  # удаление лишних столбцов\n",
    "\n",
    "print(transactions.info())"
   ]
  },
  {
   "cell_type": "code",
   "execution_count": 142,
   "metadata": {},
   "outputs": [
    {
     "name": "stdout",
     "output_type": "stream",
     "text": [
      "<class 'pandas.core.frame.DataFrame'>\n",
      "Int64Index: 418 entries, 0 to 461\n",
      "Data columns (total 7 columns):\n",
      " #   Column       Non-Null Count  Dtype  \n",
      "---  ------       --------------  -----  \n",
      " 0   CustomerID   418 non-null    int64  \n",
      " 1   Recency      418 non-null    float64\n",
      " 2   Frequency    418 non-null    float64\n",
      " 3   MonetValue   418 non-null    float64\n",
      " 4   Visithappen  418 non-null    float64\n",
      " 5   Age          418 non-null    float64\n",
      " 6   Sex          418 non-null    bool   \n",
      "dtypes: bool(1), float64(5), int64(1)\n",
      "memory usage: 23.3 KB\n",
      "None\n"
     ]
    }
   ],
   "source": [
    "# ЗАДАНИЕ 3 \n",
    "#добавление данных из второй таблицы\n",
    "\n",
    "peopleData.rename(columns={'CustomerId': 'CustomerID'}, inplace=True)    # переименовываем столбец – изначально они не совпадают \n",
    "MainData = transactions.merge(peopleData) # соединяем обе таблицы \n",
    "MainData = MainData.dropna() # убираем пустые значения -  не все клиенты указали гендер\n",
    "MainData = MainData.replace({'Sex': {'Male': True,'Female': False}}) # Меняем гендеры на тип bool\n",
    "\n",
    "print(MainData.info())"
   ]
  },
  {
   "cell_type": "code",
   "execution_count": 143,
   "metadata": {},
   "outputs": [
    {
     "name": "stdout",
     "output_type": "stream",
     "text": [
      "     CustomerID  Recency  Frequency  MonetValue   Age    Sex\n",
      "176     2746541    801.0   0.037999        10.0  25.0  False\n",
      "329     2888912    618.0   0.049251        10.0  37.0   True\n",
      "9       2741098    834.0   0.236995        10.0  28.0  False\n",
      "380     2823761    480.0   0.063410        10.0  30.0   True\n",
      "107     2885186    733.0   0.108445        10.0  28.0  False\n"
     ]
    },
    {
     "data": {
      "text/plain": [
       "176    0.0\n",
       "329    0.0\n",
       "9      0.0\n",
       "380    0.0\n",
       "107    0.0\n",
       "      ... \n",
       "10     0.0\n",
       "40     0.0\n",
       "135    0.0\n",
       "170    0.0\n",
       "337    0.0\n",
       "Name: Visithappen, Length: 334, dtype: float64"
      ]
     },
     "execution_count": 143,
     "metadata": {},
     "output_type": "execute_result"
    }
   ],
   "source": [
    "# ЗАДАНИЕ 4 \n",
    "#деление на тестовую и обучающую выборки\n",
    "trg = MainData['Visithappen']  # Отделяем от выборки значение зависимой переменной\n",
    "trn = MainData.drop(columns=['Visithappen'], axis=1)\n",
    "Xtrn, Xtest, Ytrn, Ytest = train_test_split(trn, trg, test_size = 0.2) # Разбиваем выборку на тестовую и обучающую\n",
    "\n",
    "print(Xtrn.head())\n",
    "Ytrn"
   ]
  },
  {
   "cell_type": "code",
   "execution_count": 144,
   "metadata": {},
   "outputs": [
    {
     "data": {
      "text/plain": [
       "0.9940119760479041"
      ]
     },
     "execution_count": 144,
     "metadata": {},
     "output_type": "execute_result"
    }
   ],
   "source": [
    "# ЗАДАНИЕ 5\n",
    "# обучение модели\n",
    "\n",
    "logistic = LogisticRegression()\n",
    "logistic.fit(Xtrn, Ytrn) # обучение модели\n",
    "logistic.score(Xtrn, Ytrn) # оценка модели\n",
    "#print('Coefficient: \\n', logistic.coef_)\n",
    "#print('Intercept: \\n', logistic.intercept_)\n",
    "#print('R² Value: \\n', logistic.score(Xtrn, Ytrn))"
   ]
  },
  {
   "cell_type": "code",
   "execution_count": 145,
   "metadata": {},
   "outputs": [],
   "source": [
    "# ЗАДАНИЕ 6 \n",
    "#предсказывание Y\n",
    "\n",
    "prediction = pd.Series(logistic.predict(Xtest)) # Предсказывание значения у и конвертация\n",
    "prediction = prediction.rename('Visithappen') # переименовение, выборки хранились в одинаковом виде"
   ]
  },
  {
   "cell_type": "code",
   "execution_count": 146,
   "metadata": {},
   "outputs": [
    {
     "data": {
      "text/plain": [
       "'              precision    recall  f1-score   support\\n\\n         0.0       0.99      0.99      0.99        80\\n         1.0       0.75      0.75      0.75         4\\n\\n    accuracy                           0.98        84\\n   macro avg       0.87      0.87      0.87        84\\nweighted avg       0.98      0.98      0.98        84\\n'"
      ]
     },
     "execution_count": 146,
     "metadata": {},
     "output_type": "execute_result"
    }
   ],
   "source": [
    "# ЗАДАНИЕ 7\n",
    "# подсчет метрики\n",
    "\n",
    "report = classification_report(Ytest, prediction) # Считаем метрики модели\n",
    "report"
   ]
  },
  {
   "cell_type": "code",
   "execution_count": null,
   "metadata": {},
   "outputs": [],
   "source": []
  }
 ],
 "metadata": {
  "kernelspec": {
   "display_name": "Python 3",
   "language": "python",
   "name": "python3"
  }
 },
 "nbformat": 4,
 "nbformat_minor": 4
}
